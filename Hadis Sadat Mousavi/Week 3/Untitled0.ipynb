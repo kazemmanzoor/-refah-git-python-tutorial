{
  "nbformat": 4,
  "nbformat_minor": 0,
  "metadata": {
    "colab": {
      "provenance": []
    },
    "kernelspec": {
      "name": "python3",
      "display_name": "Python 3"
    },
    "language_info": {
      "name": "python"
    }
  },
  "cells": [
    {
      "cell_type": "markdown",
      "source": [
        "# **Week 3**"
      ],
      "metadata": {
        "id": "LcVAzNrK78C9"
      }
    },
    {
      "cell_type": "code",
      "execution_count": 24,
      "metadata": {
        "colab": {
          "base_uri": "https://localhost:8080/"
        },
        "id": "iDSSNVc8wRFA",
        "outputId": "dab1724f-a2a1-44dc-f314-88e0a2b8871d"
      },
      "outputs": [
        {
          "output_type": "stream",
          "name": "stdout",
          "text": [
            "list 1:  \n",
            "1.2.3.45.2.2.7\n",
            "list 2:  \n",
            "3.2.2.2.1\n",
            "['1', '2', '3']\n"
          ]
        }
      ],
      "source": [
        "def unique_selctor(ls_1, ls_2):\n",
        "\n",
        "    result = []\n",
        "\n",
        "    ls_3 = [i for i in ls_1 for j in ls_2 if i == j]\n",
        "    for i in ls_3:\n",
        "        if i not in result:\n",
        "            result.append(i)\n",
        "\n",
        "    return result\n",
        "\n",
        "\n",
        "ls_1 = list(input('list 1:  \\n').split('.'))\n",
        "ls_2 = list(input('list 2:  \\n').split('.'))\n",
        "\n",
        "print(unique_selctor(ls_1, ls_2))\n"
      ]
    },
    {
      "cell_type": "code",
      "source": [
        "def odd_selector(ls):\n",
        "    odds = []\n",
        "\n",
        "    for i in range(len(ls)):\n",
        "        if int(ls[i]) % 2 != 0:\n",
        "            odds.append(int(ls[i])+1)\n",
        "        if int(ls[i]) % 2 == 0:\n",
        "            odds.append(int(ls[i]))\n",
        "   \n",
        "    return odds\n",
        "my_ls = list(input('your list:  ').split('.'))\n",
        "print(odd_selector(my_ls))"
      ],
      "metadata": {
        "colab": {
          "base_uri": "https://localhost:8080/"
        },
        "id": "e10zDP3r8JeA",
        "outputId": "2a976f23-5e5a-45c3-fa68-7e497c999a0e"
      },
      "execution_count": 41,
      "outputs": [
        {
          "output_type": "stream",
          "name": "stdout",
          "text": [
            "your list:  1.4.3.7.8.10.11.9\n",
            "[2, 4, 4, 8, 8, 10, 12, 10]\n"
          ]
        }
      ]
    },
    {
      "cell_type": "code",
      "source": [
        "def sorted_lists(ls_1, ls_2):\n",
        "    ls_3 = []\n",
        "   \n",
        "    for i in ls_1:\n",
        "        if int(i) not in ls_3:\n",
        "            ls_3.append(int(i))\n",
        "    for j in ls_2:\n",
        "        if int(j) not in ls_3:\n",
        "            ls_3.append(int(j))\n",
        "\n",
        "\n",
        "    return sorted(ls_3,reverse=True)\n",
        "\n",
        "ls_1 = list(input('list 1:  ').split('.'))\n",
        "ls_2 = list(input('\\nlist 2:  ').split('.'))\n",
        "print(sorted_lists(ls_1, ls_2))\n"
      ],
      "metadata": {
        "colab": {
          "base_uri": "https://localhost:8080/"
        },
        "id": "oC2FmSMjHqGo",
        "outputId": "83164054-f740-4266-b718-55b92a1e8f8f"
      },
      "execution_count": 25,
      "outputs": [
        {
          "output_type": "stream",
          "name": "stdout",
          "text": [
            "list 1:  1.2.3.7.4.5.6.6\n",
            "\n",
            "list 2:  6.7.5.8.9.8.10\n",
            "[10, 9, 8, 7, 6, 5, 4, 3, 2, 1]\n"
          ]
        }
      ]
    },
    {
      "cell_type": "code",
      "source": [
        "from sys import last_traceback\n",
        "def pop_last_first(ls):\n",
        "    ls.pop(0)\n",
        "    ls.pop(-1)\n",
        "    return ls\n",
        "ls = list(input('your list: ').split('.'))\n",
        "print(pop_last_first(ls))\n"
      ],
      "metadata": {
        "colab": {
          "base_uri": "https://localhost:8080/"
        },
        "id": "oC1zHK5NFGIL",
        "outputId": "f556412a-4cd8-43ca-832e-201cc3c60ec3"
      },
      "execution_count": 29,
      "outputs": [
        {
          "output_type": "stream",
          "name": "stdout",
          "text": [
            "your list: 1.2.'three'.4.5.6\n",
            "['2', \"'three'\", '4', '5']\n"
          ]
        }
      ]
    }
  ]
}