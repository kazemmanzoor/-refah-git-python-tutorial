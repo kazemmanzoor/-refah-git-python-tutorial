{
  "nbformat": 4,
  "nbformat_minor": 0,
  "metadata": {
    "colab": {
      "provenance": []
    },
    "kernelspec": {
      "name": "python3",
      "display_name": "Python 3"
    },
    "language_info": {
      "name": "python"
    }
  },
  "cells": [
    {
      "cell_type": "markdown",
      "source": [
        "# **Answer 2**"
      ],
      "metadata": {
        "id": "_xODlKy4JIOq"
      }
    },
    {
      "cell_type": "code",
      "execution_count": 14,
      "metadata": {
        "colab": {
          "base_uri": "https://localhost:8080/"
        },
        "id": "Zw_esGaMGX-s",
        "outputId": "a7962647-c8b1-402a-a66e-6525f1cc1c66"
      },
      "outputs": [
        {
          "output_type": "stream",
          "name": "stdout",
          "text": [
            "your string:\tsalam man ccc hastam shoma bb hasti aa\n",
            "{2: ['bb', 'aa'], 3: ['man', 'ccc'], 5: ['salam', 'shoma', 'hasti'], 6: ['hastam']}\n"
          ]
        }
      ],
      "source": [
        "def this_function(string):\n",
        "    \n",
        "    splitted = string.split(' ')\n",
        "    lens = []\n",
        "    dict_={}\n",
        "    for i in splitted:\n",
        "        lens.append(len(i))\n",
        "    lens_set = set(lens)\n",
        "    for i in lens_set:\n",
        "        temp = []\n",
        "        for j in splitted:\n",
        "            if len(j) == i:\n",
        "                temp.append(j)\n",
        "                dict_.update({i:temp})\n",
        "    return dict_\n",
        "\n",
        "string = input('your string:\\t')\n",
        "print(this_function(string))"
      ]
    }
  ]
}