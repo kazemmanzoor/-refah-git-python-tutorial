{
  "nbformat": 4,
  "nbformat_minor": 0,
  "metadata": {
    "colab": {
      "provenance": []
    },
    "kernelspec": {
      "name": "python3",
      "display_name": "Python 3"
    },
    "language_info": {
      "name": "python"
    }
  },
  "cells": [
    {
      "cell_type": "markdown",
      "source": [
        "# **Week 4**"
      ],
      "metadata": {
        "id": "OIZ_CT5laaKF"
      }
    },
    {
      "cell_type": "code",
      "execution_count": 46,
      "metadata": {
        "colab": {
          "base_uri": "https://localhost:8080/"
        },
        "id": "0WLgaX6XaYy6",
        "outputId": "cdd76244-8998-499d-f7e8-990c3943efe7"
      },
      "outputs": [
        {
          "output_type": "stream",
          "name": "stdout",
          "text": [
            "your string:\tsalam man Hadis hastam\n",
            " malas nam sidaH matsah\n"
          ]
        }
      ],
      "source": [
        "def str_reverser(string):\n",
        "    new = ''\n",
        "    splited = string.split(' ')\n",
        "    for i in splited:\n",
        "        rvs = list(i+' ')\n",
        "        rvs.reverse()\n",
        "        for j in rvs:\n",
        "            new = new + j\n",
        "    return new\n",
        "my_str = input('your string:\\t')\n",
        "print(str_reverser(my_str))"
      ]
    },
    {
      "cell_type": "code",
      "source": [
        "# strr = \"salam khoobi chetori\"\n",
        "# str2 = ''\n",
        "# ls = strr.split(' ')\n",
        "# a = list(ls[0])\n",
        "# a.reverse()\n",
        "# for i in a:\n",
        "#     str2 = str2 + i\n",
        "# str2"
      ],
      "metadata": {
        "colab": {
          "base_uri": "https://localhost:8080/",
          "height": 35
        },
        "id": "g81YXUavfDbT",
        "outputId": "3b50c85d-98a3-4073-ed5d-a1b175ce2cb7"
      },
      "execution_count": 20,
      "outputs": [
        {
          "output_type": "execute_result",
          "data": {
            "text/plain": [
              "'malas'"
            ],
            "application/vnd.google.colaboratory.intrinsic+json": {
              "type": "string"
            }
          },
          "metadata": {},
          "execution_count": 20
        }
      ]
    },
    {
      "cell_type": "code",
      "source": [
        "\n",
        "import pandas as pd\n",
        "import numpy as np\n",
        "\n",
        "\n",
        "csv_file = pd.read_csv('scipo1939-estimated-population-country-by-province-1398-fa.csv')\n",
        "my_df = pd.DataFrame(csv_file)\n",
        "my_df.rename(columns={'استان‌ها': 'Provinces', 'نفر': 'Population'}, inplace=True)\n",
        "my_df"
      ],
      "metadata": {
        "colab": {
          "base_uri": "https://localhost:8080/",
          "height": 655
        },
        "id": "xDeKaqouoBea",
        "outputId": "9e36b5b9-00bf-47fa-91e0-0b6fe48de8fe"
      },
      "execution_count": 56,
      "outputs": [
        {
          "output_type": "execute_result",
          "data": {
            "text/plain": [
              "             Provinces  Population\n",
              "0       آذربایجان شرقی     4018000\n",
              "1       آذربایجان غربی     3398000\n",
              "2               اردبیل     1297000\n",
              "3               اصفهان     5292000\n",
              "4                البرز     2865000\n",
              "5                ایلام      597000\n",
              "6                بوشهر     1230000\n",
              "7                تهران    13807000\n",
              "8    چهارمحال وبختیاری      979000\n",
              "9         خراسان جنوبی      809000\n",
              "10         خراسان رضوی     6768000\n",
              "11        خراسان شمالی      892000\n",
              "12             خوزستان     4885000\n",
              "13               زنجان     1095000\n",
              "14               سمنان      750000\n",
              "15    سیستان وبلوچستان     2978000\n",
              "16                فارس     5006000\n",
              "17               قزوین     1322000\n",
              "18                  قم     1373000\n",
              "19             كردستان     1658000\n",
              "20               كرمان     3299000\n",
              "21            کرمانشاه     1989000\n",
              "22  کهگیلویه وبویراحمد      744000\n",
              "23              گلستان     1951000\n",
              "24               گیلان     2562000\n",
              "25              لرستان     1793000\n",
              "26            مازندران     3365000\n",
              "27               مرکزی     1467000\n",
              "28             هرمزگان     1902000\n",
              "29               همدان     1771000\n",
              "30                 یزد     1213000"
            ],
            "text/html": [
              "\n",
              "  <div id=\"df-bcf9f685-124b-4c19-bd9f-f028b5dae72c\">\n",
              "    <div class=\"colab-df-container\">\n",
              "      <div>\n",
              "<style scoped>\n",
              "    .dataframe tbody tr th:only-of-type {\n",
              "        vertical-align: middle;\n",
              "    }\n",
              "\n",
              "    .dataframe tbody tr th {\n",
              "        vertical-align: top;\n",
              "    }\n",
              "\n",
              "    .dataframe thead th {\n",
              "        text-align: right;\n",
              "    }\n",
              "</style>\n",
              "<table border=\"1\" class=\"dataframe\">\n",
              "  <thead>\n",
              "    <tr style=\"text-align: right;\">\n",
              "      <th></th>\n",
              "      <th>Provinces</th>\n",
              "      <th>Population</th>\n",
              "    </tr>\n",
              "  </thead>\n",
              "  <tbody>\n",
              "    <tr>\n",
              "      <th>0</th>\n",
              "      <td>آذربایجان شرقی</td>\n",
              "      <td>4018000</td>\n",
              "    </tr>\n",
              "    <tr>\n",
              "      <th>1</th>\n",
              "      <td>آذربایجان غربی</td>\n",
              "      <td>3398000</td>\n",
              "    </tr>\n",
              "    <tr>\n",
              "      <th>2</th>\n",
              "      <td>اردبیل</td>\n",
              "      <td>1297000</td>\n",
              "    </tr>\n",
              "    <tr>\n",
              "      <th>3</th>\n",
              "      <td>اصفهان</td>\n",
              "      <td>5292000</td>\n",
              "    </tr>\n",
              "    <tr>\n",
              "      <th>4</th>\n",
              "      <td>البرز</td>\n",
              "      <td>2865000</td>\n",
              "    </tr>\n",
              "    <tr>\n",
              "      <th>5</th>\n",
              "      <td>ایلام</td>\n",
              "      <td>597000</td>\n",
              "    </tr>\n",
              "    <tr>\n",
              "      <th>6</th>\n",
              "      <td>بوشهر</td>\n",
              "      <td>1230000</td>\n",
              "    </tr>\n",
              "    <tr>\n",
              "      <th>7</th>\n",
              "      <td>تهران</td>\n",
              "      <td>13807000</td>\n",
              "    </tr>\n",
              "    <tr>\n",
              "      <th>8</th>\n",
              "      <td>چهارمحال وبختیاری</td>\n",
              "      <td>979000</td>\n",
              "    </tr>\n",
              "    <tr>\n",
              "      <th>9</th>\n",
              "      <td>خراسان جنوبی</td>\n",
              "      <td>809000</td>\n",
              "    </tr>\n",
              "    <tr>\n",
              "      <th>10</th>\n",
              "      <td>خراسان رضوی</td>\n",
              "      <td>6768000</td>\n",
              "    </tr>\n",
              "    <tr>\n",
              "      <th>11</th>\n",
              "      <td>خراسان شمالی</td>\n",
              "      <td>892000</td>\n",
              "    </tr>\n",
              "    <tr>\n",
              "      <th>12</th>\n",
              "      <td>خوزستان</td>\n",
              "      <td>4885000</td>\n",
              "    </tr>\n",
              "    <tr>\n",
              "      <th>13</th>\n",
              "      <td>زنجان</td>\n",
              "      <td>1095000</td>\n",
              "    </tr>\n",
              "    <tr>\n",
              "      <th>14</th>\n",
              "      <td>سمنان</td>\n",
              "      <td>750000</td>\n",
              "    </tr>\n",
              "    <tr>\n",
              "      <th>15</th>\n",
              "      <td>سیستان وبلوچستان</td>\n",
              "      <td>2978000</td>\n",
              "    </tr>\n",
              "    <tr>\n",
              "      <th>16</th>\n",
              "      <td>فارس</td>\n",
              "      <td>5006000</td>\n",
              "    </tr>\n",
              "    <tr>\n",
              "      <th>17</th>\n",
              "      <td>قزوین</td>\n",
              "      <td>1322000</td>\n",
              "    </tr>\n",
              "    <tr>\n",
              "      <th>18</th>\n",
              "      <td>قم</td>\n",
              "      <td>1373000</td>\n",
              "    </tr>\n",
              "    <tr>\n",
              "      <th>19</th>\n",
              "      <td>كردستان</td>\n",
              "      <td>1658000</td>\n",
              "    </tr>\n",
              "    <tr>\n",
              "      <th>20</th>\n",
              "      <td>كرمان</td>\n",
              "      <td>3299000</td>\n",
              "    </tr>\n",
              "    <tr>\n",
              "      <th>21</th>\n",
              "      <td>کرمانشاه</td>\n",
              "      <td>1989000</td>\n",
              "    </tr>\n",
              "    <tr>\n",
              "      <th>22</th>\n",
              "      <td>کهگیلویه وبویراحمد</td>\n",
              "      <td>744000</td>\n",
              "    </tr>\n",
              "    <tr>\n",
              "      <th>23</th>\n",
              "      <td>گلستان</td>\n",
              "      <td>1951000</td>\n",
              "    </tr>\n",
              "    <tr>\n",
              "      <th>24</th>\n",
              "      <td>گیلان</td>\n",
              "      <td>2562000</td>\n",
              "    </tr>\n",
              "    <tr>\n",
              "      <th>25</th>\n",
              "      <td>لرستان</td>\n",
              "      <td>1793000</td>\n",
              "    </tr>\n",
              "    <tr>\n",
              "      <th>26</th>\n",
              "      <td>مازندران</td>\n",
              "      <td>3365000</td>\n",
              "    </tr>\n",
              "    <tr>\n",
              "      <th>27</th>\n",
              "      <td>مرکزی</td>\n",
              "      <td>1467000</td>\n",
              "    </tr>\n",
              "    <tr>\n",
              "      <th>28</th>\n",
              "      <td>هرمزگان</td>\n",
              "      <td>1902000</td>\n",
              "    </tr>\n",
              "    <tr>\n",
              "      <th>29</th>\n",
              "      <td>همدان</td>\n",
              "      <td>1771000</td>\n",
              "    </tr>\n",
              "    <tr>\n",
              "      <th>30</th>\n",
              "      <td>یزد</td>\n",
              "      <td>1213000</td>\n",
              "    </tr>\n",
              "  </tbody>\n",
              "</table>\n",
              "</div>\n",
              "      <button class=\"colab-df-convert\" onclick=\"convertToInteractive('df-bcf9f685-124b-4c19-bd9f-f028b5dae72c')\"\n",
              "              title=\"Convert this dataframe to an interactive table.\"\n",
              "              style=\"display:none;\">\n",
              "        \n",
              "  <svg xmlns=\"http://www.w3.org/2000/svg\" height=\"24px\"viewBox=\"0 0 24 24\"\n",
              "       width=\"24px\">\n",
              "    <path d=\"M0 0h24v24H0V0z\" fill=\"none\"/>\n",
              "    <path d=\"M18.56 5.44l.94 2.06.94-2.06 2.06-.94-2.06-.94-.94-2.06-.94 2.06-2.06.94zm-11 1L8.5 8.5l.94-2.06 2.06-.94-2.06-.94L8.5 2.5l-.94 2.06-2.06.94zm10 10l.94 2.06.94-2.06 2.06-.94-2.06-.94-.94-2.06-.94 2.06-2.06.94z\"/><path d=\"M17.41 7.96l-1.37-1.37c-.4-.4-.92-.59-1.43-.59-.52 0-1.04.2-1.43.59L10.3 9.45l-7.72 7.72c-.78.78-.78 2.05 0 2.83L4 21.41c.39.39.9.59 1.41.59.51 0 1.02-.2 1.41-.59l7.78-7.78 2.81-2.81c.8-.78.8-2.07 0-2.86zM5.41 20L4 18.59l7.72-7.72 1.47 1.35L5.41 20z\"/>\n",
              "  </svg>\n",
              "      </button>\n",
              "      \n",
              "  <style>\n",
              "    .colab-df-container {\n",
              "      display:flex;\n",
              "      flex-wrap:wrap;\n",
              "      gap: 12px;\n",
              "    }\n",
              "\n",
              "    .colab-df-convert {\n",
              "      background-color: #E8F0FE;\n",
              "      border: none;\n",
              "      border-radius: 50%;\n",
              "      cursor: pointer;\n",
              "      display: none;\n",
              "      fill: #1967D2;\n",
              "      height: 32px;\n",
              "      padding: 0 0 0 0;\n",
              "      width: 32px;\n",
              "    }\n",
              "\n",
              "    .colab-df-convert:hover {\n",
              "      background-color: #E2EBFA;\n",
              "      box-shadow: 0px 1px 2px rgba(60, 64, 67, 0.3), 0px 1px 3px 1px rgba(60, 64, 67, 0.15);\n",
              "      fill: #174EA6;\n",
              "    }\n",
              "\n",
              "    [theme=dark] .colab-df-convert {\n",
              "      background-color: #3B4455;\n",
              "      fill: #D2E3FC;\n",
              "    }\n",
              "\n",
              "    [theme=dark] .colab-df-convert:hover {\n",
              "      background-color: #434B5C;\n",
              "      box-shadow: 0px 1px 3px 1px rgba(0, 0, 0, 0.15);\n",
              "      filter: drop-shadow(0px 1px 2px rgba(0, 0, 0, 0.3));\n",
              "      fill: #FFFFFF;\n",
              "    }\n",
              "  </style>\n",
              "\n",
              "      <script>\n",
              "        const buttonEl =\n",
              "          document.querySelector('#df-bcf9f685-124b-4c19-bd9f-f028b5dae72c button.colab-df-convert');\n",
              "        buttonEl.style.display =\n",
              "          google.colab.kernel.accessAllowed ? 'block' : 'none';\n",
              "\n",
              "        async function convertToInteractive(key) {\n",
              "          const element = document.querySelector('#df-bcf9f685-124b-4c19-bd9f-f028b5dae72c');\n",
              "          const dataTable =\n",
              "            await google.colab.kernel.invokeFunction('convertToInteractive',\n",
              "                                                     [key], {});\n",
              "          if (!dataTable) return;\n",
              "\n",
              "          const docLinkHtml = 'Like what you see? Visit the ' +\n",
              "            '<a target=\"_blank\" href=https://colab.research.google.com/notebooks/data_table.ipynb>data table notebook</a>'\n",
              "            + ' to learn more about interactive tables.';\n",
              "          element.innerHTML = '';\n",
              "          dataTable['output_type'] = 'display_data';\n",
              "          await google.colab.output.renderOutput(dataTable, element);\n",
              "          const docLink = document.createElement('div');\n",
              "          docLink.innerHTML = docLinkHtml;\n",
              "          element.appendChild(docLink);\n",
              "        }\n",
              "      </script>\n",
              "    </div>\n",
              "  </div>\n",
              "  "
            ]
          },
          "metadata": {},
          "execution_count": 56
        }
      ]
    },
    {
      "cell_type": "code",
      "source": [
        "from matplotlib import pyplot as plt\n",
        "import pandas as pd\n",
        "import numpy as np\n",
        "\n",
        "\n",
        "csv_file = pd.read_csv('scipo1939-estimated-population-country-by-province-1398-fa.csv')\n",
        "my_df = pd.DataFrame(csv_file)\n",
        "my_df.rename(columns={'استان‌ها': 'Provinces', 'نفر': 'Population'}, inplace=True)\n",
        "# x = my_df.columns.to_list()\n",
        "x = np.array(my_df['Provinces'])\n",
        "y = np.array(my_df['Population'])\n",
        "plt.rcParams[\"figure.figsize\"] = (15,15)\n",
        "plt.barh(x, y, height=0.8)"
      ],
      "metadata": {
        "colab": {
          "base_uri": "https://localhost:8080/",
          "height": 893
        },
        "outputId": "e433e44d-aba7-4356-cca4-bfcbed6f8a56",
        "id": "_xPvUTEgstWT"
      },
      "execution_count": 83,
      "outputs": [
        {
          "output_type": "execute_result",
          "data": {
            "text/plain": [
              "<BarContainer object of 31 artists>"
            ]
          },
          "metadata": {},
          "execution_count": 83
        },
        {
          "output_type": "display_data",
          "data": {
            "text/plain": [
              "<Figure size 1080x1080 with 1 Axes>"
            ],
            "image/png": "[encoded data removed]"
          },
          "metadata": {
            "needs_background": "light"
          }
        }
      ]
    },
    {
      "cell_type": "code",
      "source": [
        "def palindrome(string):\n",
        "\n",
        "    return string == string[::-1]\n",
        "\n",
        "input_ = input('your string:\\t')\n",
        "if palindrome(input_) == True:\n",
        "    print('Yes')\n",
        "else:\n",
        "    print('No')"
      ],
      "metadata": {
        "colab": {
          "base_uri": "https://localhost:8080/"
        },
        "id": "u0eakMjuwiGF",
        "outputId": "4d9fc6d8-a976-4de4-ec64-12e590e565d0"
      },
      "execution_count": 90,
      "outputs": [
        {
          "output_type": "stream",
          "name": "stdout",
          "text": [
            "your string:\tSALAS\n",
            "Yes\n"
          ]
        }
      ]
    }
  ]
}