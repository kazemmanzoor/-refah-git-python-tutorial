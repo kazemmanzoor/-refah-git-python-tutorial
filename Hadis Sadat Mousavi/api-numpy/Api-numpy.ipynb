{
 "cells": [
  {
   "cell_type": "markdown",
   "id": "91d5961d",
   "metadata": {},
   "source": [
    "## Question 1"
   ]
  },
  {
   "cell_type": "code",
   "execution_count": 3,
   "id": "e8341439",
   "metadata": {},
   "outputs": [
    {
     "name": "stdout",
     "output_type": "stream",
     "text": [
      "Defaulting to user installation because normal site-packages is not writeable\n",
      "Requirement already satisfied: requests in /usr/lib/python3/dist-packages (2.22.0)\n",
      "\u001b[33mWARNING: You are using pip version 21.3.1; however, version 22.3.1 is available.\n",
      "You should consider upgrading via the '/usr/bin/python3 -m pip install --upgrade pip' command.\u001b[0m\n",
      "Note: you may need to restart the kernel to use updated packages.\n"
     ]
    }
   ],
   "source": [
    "%pip install requests"
   ]
  },
  {
   "cell_type": "code",
   "execution_count": 2,
   "id": "a3fa7297",
   "metadata": {},
   "outputs": [],
   "source": [
    "import requests\n",
    "from datetime import datetime\n",
    "import time\n",
    "import json"
   ]
  },
  {
   "cell_type": "code",
   "execution_count": 175,
   "id": "a29a58c8",
   "metadata": {},
   "outputs": [],
   "source": [
    "parameters = {'lat':361856.12, 'lng':59344.66}"
   ]
  },
  {
   "cell_type": "code",
   "execution_count": 176,
   "id": "88e10c4c",
   "metadata": {},
   "outputs": [],
   "source": [
    "response = requests.get('https://api.sunrise-sunset.org/json?', params=parameters)"
   ]
  },
  {
   "cell_type": "code",
   "execution_count": 177,
   "id": "d791e3d5",
   "metadata": {},
   "outputs": [],
   "source": [
    "response = response.json()"
   ]
  },
  {
   "cell_type": "code",
   "execution_count": 178,
   "id": "a2e9c1fa",
   "metadata": {},
   "outputs": [
    {
     "data": {
      "text/plain": [
       "{'results': {'sunrise': '8:04:31 AM',\n",
       "  'sunset': '11:28:15 PM',\n",
       "  'solar_noon': '3:46:23 PM',\n",
       "  'day_length': '15:23:44',\n",
       "  'civil_twilight_begin': '7:22:11 AM',\n",
       "  'civil_twilight_end': '12:10:34 AM',\n",
       "  'nautical_twilight_begin': '6:21:14 AM',\n",
       "  'nautical_twilight_end': '1:11:32 AM',\n",
       "  'astronomical_twilight_begin': '4:44:35 AM',\n",
       "  'astronomical_twilight_end': '2:48:11 AM'},\n",
       " 'status': 'OK'}"
      ]
     },
     "execution_count": 178,
     "metadata": {},
     "output_type": "execute_result"
    }
   ],
   "source": [
    "response"
   ]
  },
  {
   "cell_type": "code",
   "execution_count": 179,
   "id": "57708598",
   "metadata": {},
   "outputs": [],
   "source": [
    "sunset = response['results']['sunset'].split(' ')[0]\n",
    "sunset = datetime.strptime(sunset, '%H:%M:%S')\n",
    "sunrise = response['results']['sunrise'].split(' ')[0]\n",
    "sunrise = datetime.strptime(sunrise, '%H:%M:%S')"
   ]
  },
  {
   "cell_type": "code",
   "execution_count": 180,
   "id": "f3e34771",
   "metadata": {},
   "outputs": [],
   "source": [
    "now_timestamp = time.time()\n",
    "offset = datetime.fromtimestamp(now_timestamp) - datetime.utcfromtimestamp(now_timestamp)"
   ]
  },
  {
   "cell_type": "code",
   "execution_count": 181,
   "id": "a3e4ab94",
   "metadata": {},
   "outputs": [
    {
     "data": {
      "text/plain": [
       "datetime.datetime(1900, 1, 1, 11, 34, 31)"
      ]
     },
     "execution_count": 181,
     "metadata": {},
     "output_type": "execute_result"
    }
   ],
   "source": [
    "sunrise + offset"
   ]
  },
  {
   "cell_type": "code",
   "execution_count": 182,
   "id": "f1ff29f9",
   "metadata": {},
   "outputs": [
    {
     "data": {
      "text/plain": [
       "datetime.datetime(1900, 1, 1, 14, 58, 15)"
      ]
     },
     "execution_count": 182,
     "metadata": {},
     "output_type": "execute_result"
    }
   ],
   "source": [
    "sunset + offset"
   ]
  },
  {
   "cell_type": "markdown",
   "id": "fc6334f9",
   "metadata": {},
   "source": [
    "## Question 2"
   ]
  },
  {
   "cell_type": "code",
   "execution_count": 12,
   "id": "5b71d152",
   "metadata": {},
   "outputs": [
    {
     "data": {
      "text/plain": [
       "'اين خواننده هاي جديد رو ديدين ؟چه سبكي دارن؟\\nسه دقيقه آهنگه، سي ثانيه اولش خودش و دوستاش رو معرفي ميكنه\\nدو دقيقه وسطش با صداي گوسفندي دو تا كلمه رو هي تكرار ميكنه\\nسي ثانيه آخر هم باز دوباره خودش رو معرفي ميكنه'"
      ]
     },
     "execution_count": 12,
     "metadata": {},
     "output_type": "execute_result"
    }
   ],
   "source": [
    "response = requests.get('https://one-api.ir/joke/?token=728034:63cfb8874e0767.18497909&action=app&page=3')\n",
    "response.json()['result']"
   ]
  },
  {
   "cell_type": "markdown",
   "id": "07ae32a4",
   "metadata": {},
   "source": [
    "## Question 3"
   ]
  },
  {
   "cell_type": "code",
   "execution_count": 63,
   "id": "71f804d9",
   "metadata": {},
   "outputs": [],
   "source": [
    "import numpy as np"
   ]
  },
  {
   "cell_type": "code",
   "execution_count": 99,
   "id": "fea1ca27",
   "metadata": {},
   "outputs": [],
   "source": [
    "weigths = np.array([[20, 10], [17, 22]])\n",
    "total = np.array([350, 500])\n",
    "answer = np.linalg.inv(weigths).dot(total)"
   ]
  },
  {
   "cell_type": "code",
   "execution_count": 103,
   "id": "42832a6a",
   "metadata": {},
   "outputs": [
    {
     "data": {
      "text/plain": [
       "'Orange:10K toman  Tangerine:14K toman'"
      ]
     },
     "execution_count": 103,
     "metadata": {},
     "output_type": "execute_result"
    }
   ],
   "source": [
    "'Orange:{}K toman  Tangerine:{}K toman'.format(int(answer[0]), int(answer[1]))"
   ]
  },
  {
   "cell_type": "markdown",
   "id": "68c0dbab",
   "metadata": {},
   "source": [
    "## Question 4"
   ]
  },
  {
   "cell_type": "code",
   "execution_count": 87,
   "id": "12e3bf92",
   "metadata": {},
   "outputs": [],
   "source": [
    "weights = np.array([[4, 3, 2], [-2, 2, 3], [3, -5, 2]])\n",
    "total = np.array([25, -10, -4])\n",
    "answer = np.linalg.inv(weights).dot(total)"
   ]
  },
  {
   "cell_type": "code",
   "execution_count": 97,
   "id": "54b478a7",
   "metadata": {},
   "outputs": [
    {
     "data": {
      "text/plain": [
       "'x = 5.0   y = 3.0   z = -2.0'"
      ]
     },
     "execution_count": 97,
     "metadata": {},
     "output_type": "execute_result"
    }
   ],
   "source": [
    "'x = {}   y = {}   z = {}'.format(answer[0], answer[1], answer[2])\n"
   ]
  }
 ],
 "metadata": {
  "kernelspec": {
   "display_name": "Python 3 (ipykernel)",
   "language": "python",
   "name": "python3"
  },
  "language_info": {
   "codemirror_mode": {
    "name": "ipython",
    "version": 3
   },
   "file_extension": ".py",
   "mimetype": "text/x-python",
   "name": "python",
   "nbconvert_exporter": "python",
   "pygments_lexer": "ipython3",
   "version": "3.8.10"
  }
 },
 "nbformat": 4,
 "nbformat_minor": 5
}
